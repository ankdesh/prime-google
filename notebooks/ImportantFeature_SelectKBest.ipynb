{
 "cells": [
  {
   "cell_type": "code",
   "execution_count": 4,
   "id": "a5390d4d",
   "metadata": {},
   "outputs": [],
   "source": [
    "import tensorflow as tf\n",
    "import numpy as np\n",
    "import pandas as pd"
   ]
  },
  {
   "cell_type": "code",
   "execution_count": 6,
   "id": "60fc91f5",
   "metadata": {},
   "outputs": [],
   "source": [
    "csv_file_path=\"/home/ankdesh/explore/prime-google/dataset/MobilenetEdgeTPU/MobilenetEdgeTPU_feasible.csv\""
   ]
  },
  {
   "cell_type": "code",
   "execution_count": 7,
   "id": "f5a65706",
   "metadata": {},
   "outputs": [],
   "source": [
    "df = pd.read_csv(csv_file_path)"
   ]
  },
  {
   "cell_type": "code",
   "execution_count": 16,
   "id": "212cc6b5",
   "metadata": {},
   "outputs": [],
   "source": [
    "X_train = df.iloc[:, 1:10]\n",
    "X_train =  X_train.fillna(0)"
   ]
  },
  {
   "cell_type": "code",
   "execution_count": 18,
   "id": "a68b2204",
   "metadata": {},
   "outputs": [],
   "source": [
    "y_train = df['runtime']\n",
    "y_train =  y_train.fillna(0)"
   ]
  },
  {
   "cell_type": "code",
   "execution_count": 21,
   "id": "51aa63ae",
   "metadata": {},
   "outputs": [
    {
     "name": "stdout",
     "output_type": "stream",
     "text": [
      "Running Select KBest ---\n",
      "[[8.000000e+00 6.000000e+00 2.560000e+02 4.000000e+00 4.194304e+06]\n",
      " [4.000000e+00 8.000000e+00 6.400000e+01 4.000000e+00 1.310720e+05]\n",
      " [6.000000e+00 4.000000e+00 1.600000e+01 1.400000e+01 2.621440e+05]\n",
      " ...\n",
      " [6.000000e+00 1.000000e+01 6.400000e+01 1.000000e+00 1.048576e+06]\n",
      " [8.000000e+00 2.000000e+00 1.280000e+02 1.400000e+01 5.242880e+05]\n",
      " [8.000000e+00 8.000000e+00 3.200000e+01 2.000000e+00 3.276800e+04]]\n"
     ]
    }
   ],
   "source": [
    "from sklearn.feature_selection import SelectKBest\n",
    "from sklearn import feature_selection\n",
    "\n",
    "print (\"Running Select KBest ---\")\n",
    "select = SelectKBest(feature_selection.f_regression, k = 5)\n",
    "df1 = select.fit_transform(X_train, y_train)\n",
    "print(df1)"
   ]
  },
  {
   "cell_type": "code",
   "execution_count": 26,
   "id": "a55500cc",
   "metadata": {},
   "outputs": [
    {
     "ename": "AttributeError",
     "evalue": "'numpy.ndarray' object has no attribute 'columns'",
     "output_type": "error",
     "traceback": [
      "\u001b[0;31m---------------------------------------------------------------------------\u001b[0m",
      "\u001b[0;31mAttributeError\u001b[0m                            Traceback (most recent call last)",
      "\u001b[0;32m/tmp/ipykernel_1796265/2206224107.py\u001b[0m in \u001b[0;36m<module>\u001b[0;34m\u001b[0m\n\u001b[1;32m      1\u001b[0m \u001b[0mfilter\u001b[0m \u001b[0;34m=\u001b[0m \u001b[0mselect\u001b[0m\u001b[0;34m.\u001b[0m\u001b[0mget_support\u001b[0m\u001b[0;34m(\u001b[0m\u001b[0;34m)\u001b[0m\u001b[0;34m\u001b[0m\u001b[0;34m\u001b[0m\u001b[0m\n\u001b[0;32m----> 2\u001b[0;31m \u001b[0mfeatures\u001b[0m \u001b[0;34m=\u001b[0m \u001b[0mnp\u001b[0m\u001b[0;34m.\u001b[0m\u001b[0marray\u001b[0m\u001b[0;34m(\u001b[0m\u001b[0mdf1\u001b[0m\u001b[0;34m.\u001b[0m\u001b[0mcolumns\u001b[0m\u001b[0;34m)\u001b[0m\u001b[0;34m\u001b[0m\u001b[0;34m\u001b[0m\u001b[0m\n\u001b[0m\u001b[1;32m      3\u001b[0m \u001b[0;34m\u001b[0m\u001b[0m\n\u001b[1;32m      4\u001b[0m \u001b[0mprint\u001b[0m\u001b[0;34m(\u001b[0m\u001b[0;34m\"All features:\"\u001b[0m\u001b[0;34m)\u001b[0m\u001b[0;34m\u001b[0m\u001b[0;34m\u001b[0m\u001b[0m\n\u001b[1;32m      5\u001b[0m \u001b[0mprint\u001b[0m\u001b[0;34m(\u001b[0m\u001b[0mfeatures\u001b[0m\u001b[0;34m)\u001b[0m\u001b[0;34m\u001b[0m\u001b[0;34m\u001b[0m\u001b[0m\n",
      "\u001b[0;31mAttributeError\u001b[0m: 'numpy.ndarray' object has no attribute 'columns'"
     ]
    }
   ],
   "source": [
    "filter = select.get_support()\n",
    "features = np.array(df.columns)\n",
    " \n",
    "print(\"All features:\")\n",
    "print(features)\n",
    " \n",
    "print(\"Selected best 3:\")\n",
    "print(features[filter])"
   ]
  },
  {
   "cell_type": "code",
   "execution_count": null,
   "id": "7bd353de",
   "metadata": {},
   "outputs": [],
   "source": []
  }
 ],
 "metadata": {
  "kernelspec": {
   "display_name": "Python 3 (ipykernel)",
   "language": "python",
   "name": "python3"
  },
  "language_info": {
   "codemirror_mode": {
    "name": "ipython",
    "version": 3
   },
   "file_extension": ".py",
   "mimetype": "text/x-python",
   "name": "python",
   "nbconvert_exporter": "python",
   "pygments_lexer": "ipython3",
   "version": "3.8.10"
  }
 },
 "nbformat": 4,
 "nbformat_minor": 5
}
