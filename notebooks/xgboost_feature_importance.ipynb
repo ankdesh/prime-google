{
 "cells": [
  {
   "cell_type": "code",
   "execution_count": 33,
   "id": "a5390d4d",
   "metadata": {},
   "outputs": [],
   "source": [
    "import tensorflow as tf\n",
    "import numpy as np\n",
    "import pandas as pd\n",
    "from xgboost import XGBRegressor\n",
    "from xgboost import plot_importance, plot_tree\n",
    "from matplotlib import pyplot as plt"
   ]
  },
  {
   "cell_type": "code",
   "execution_count": 34,
   "id": "60fc91f5",
   "metadata": {},
   "outputs": [],
   "source": [
    "csv_file_path=\"/home/ankdesh/explore/prime-google/dataset/MobilenetEdgeTPU/MobilenetEdgeTPU_feasible.csv\""
   ]
  },
  {
   "cell_type": "code",
   "execution_count": 35,
   "id": "f5a65706",
   "metadata": {},
   "outputs": [],
   "source": [
    "df = pd.read_csv(csv_file_path)"
   ]
  },
  {
   "cell_type": "code",
   "execution_count": 36,
   "id": "212cc6b5",
   "metadata": {},
   "outputs": [],
   "source": [
    "X_train = df.iloc[:, 1:10]\n",
    "X_train =  X_train.fillna(0)"
   ]
  },
  {
   "cell_type": "code",
   "execution_count": 37,
   "id": "a68b2204",
   "metadata": {},
   "outputs": [],
   "source": [
    "y_train = df['runtime']\n",
    "y_train =  y_train.fillna(0)"
   ]
  },
  {
   "cell_type": "code",
   "execution_count": 38,
   "id": "51aa63ae",
   "metadata": {},
   "outputs": [
    {
     "name": "stdout",
     "output_type": "stream",
     "text": [
      "Feature Importances :  [0.23838346 0.15250178 0.27573842 0.326614   0.0044178  0.00111138\n",
      " 0.00042718 0.00044934 0.00035669]\n"
     ]
    }
   ],
   "source": [
    "# fit model to training data\n",
    "xgb_model = XGBRegressor(random_state = 0)\n",
    "xgb_model.fit(X_train, y_train)\n",
    "\n",
    "print(\"Feature Importances : \", xgb_model.feature_importances_)"
   ]
  },
  {
   "cell_type": "code",
   "execution_count": 52,
   "id": "993288e5",
   "metadata": {},
   "outputs": [],
   "source": [
    "feature_imp = [int(x) for x in 100 * np.array(xgb_model.feature_importances_)]"
   ]
  },
  {
   "cell_type": "code",
   "execution_count": 53,
   "id": "77dc7437",
   "metadata": {},
   "outputs": [
    {
     "name": "stdout",
     "output_type": "stream",
     "text": [
      "[23, 15, 27, 32, 0, 0, 0, 0, 0]\n"
     ]
    }
   ],
   "source": [
    "print (feature_imp)"
   ]
  },
  {
   "cell_type": "code",
   "execution_count": 55,
   "id": "00680c5a",
   "metadata": {},
   "outputs": [
    {
     "name": "stdout",
     "output_type": "stream",
     "text": [
      "{'pe_x': 23, 'pe_y': 15, 'num_cores': 27, 'num_compute_lanes': 32, 'pe_memory': 0, 'core_memory': 0, 'inst_memory': 0, 'parameter_memory': 0, 'activation_memory': 0}\n"
     ]
    }
   ],
   "source": [
    "print (dict(zip(list(df.columns[1:10]), feature_imp)))"
   ]
  }
 ],
 "metadata": {
  "kernelspec": {
   "display_name": "Python 3 (ipykernel)",
   "language": "python",
   "name": "python3"
  },
  "language_info": {
   "codemirror_mode": {
    "name": "ipython",
    "version": 3
   },
   "file_extension": ".py",
   "mimetype": "text/x-python",
   "name": "python",
   "nbconvert_exporter": "python",
   "pygments_lexer": "ipython3",
   "version": "3.8.10"
  }
 },
 "nbformat": 4,
 "nbformat_minor": 5
}
